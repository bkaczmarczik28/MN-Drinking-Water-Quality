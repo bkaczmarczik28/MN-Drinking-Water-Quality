{
 "cells": [
  {
   "cell_type": "code",
   "execution_count": 1,
   "metadata": {},
   "outputs": [],
   "source": [
    "# Import Dependencies\n",
    "import pandas as pd"
   ]
  },
  {
   "cell_type": "code",
   "execution_count": 2,
   "metadata": {},
   "outputs": [
    {
     "data": {
      "text/html": [
       "<div>\n",
       "<style scoped>\n",
       "    .dataframe tbody tr th:only-of-type {\n",
       "        vertical-align: middle;\n",
       "    }\n",
       "\n",
       "    .dataframe tbody tr th {\n",
       "        vertical-align: top;\n",
       "    }\n",
       "\n",
       "    .dataframe thead th {\n",
       "        text-align: right;\n",
       "    }\n",
       "</style>\n",
       "<table border=\"1\" class=\"dataframe\">\n",
       "  <thead>\n",
       "    <tr style=\"text-align: right;\">\n",
       "      <th></th>\n",
       "      <th>Rank</th>\n",
       "      <th>County</th>\n",
       "      <th>Poverty Rate</th>\n",
       "      <th>Urban/Rural/Sub</th>\n",
       "    </tr>\n",
       "  </thead>\n",
       "  <tbody>\n",
       "    <tr>\n",
       "      <td>0</td>\n",
       "      <td>1st</td>\n",
       "      <td>Carver County</td>\n",
       "      <td>4.00%</td>\n",
       "      <td>Suburban</td>\n",
       "    </tr>\n",
       "    <tr>\n",
       "      <td>1</td>\n",
       "      <td>2nd</td>\n",
       "      <td>Washington County</td>\n",
       "      <td>5.00%</td>\n",
       "      <td>Suburban</td>\n",
       "    </tr>\n",
       "    <tr>\n",
       "      <td>2</td>\n",
       "      <td>3rd</td>\n",
       "      <td>Wright County</td>\n",
       "      <td>5.00%</td>\n",
       "      <td>Suburban</td>\n",
       "    </tr>\n",
       "    <tr>\n",
       "      <td>3</td>\n",
       "      <td>4th</td>\n",
       "      <td>Chisago County</td>\n",
       "      <td>5.40%</td>\n",
       "      <td>Rural</td>\n",
       "    </tr>\n",
       "    <tr>\n",
       "      <td>4</td>\n",
       "      <td>5th</td>\n",
       "      <td>Scott County</td>\n",
       "      <td>5.60%</td>\n",
       "      <td>Suburban</td>\n",
       "    </tr>\n",
       "  </tbody>\n",
       "</table>\n",
       "</div>"
      ],
      "text/plain": [
       "  Rank             County Poverty Rate Urban/Rural/Sub\n",
       "0  1st      Carver County        4.00%        Suburban\n",
       "1  2nd  Washington County        5.00%        Suburban\n",
       "2  3rd      Wright County        5.00%        Suburban\n",
       "3  4th     Chisago County        5.40%           Rural\n",
       "4  5th       Scott County        5.60%        Suburban"
      ]
     },
     "execution_count": 2,
     "metadata": {},
     "output_type": "execute_result"
    }
   ],
   "source": [
    "# Create a path to the csv and read it into a Pandas DataFrame\n",
    "csv_path = \"CountyPovertyRate.csv\"\n",
    "county_pov_df = pd.read_csv(csv_path)\n",
    "\n",
    "county_pov_df.head()"
   ]
  },
  {
   "cell_type": "code",
   "execution_count": null,
   "metadata": {},
   "outputs": [],
   "source": [
    "county_pov_df[\"Poverty Rate\"]"
   ]
  },
  {
   "cell_type": "code",
   "execution_count": 3,
   "metadata": {},
   "outputs": [],
   "source": [
    "pov_rate = []\n",
    "for i in range(len(county_pov_df)):\n",
    "    county_pov_int = county_pov_df[\"Poverty Rate\"][i]\n",
    "    county_pov_int = county_pov_int.split(\"%\")[0]\n",
    "    pov_rate.append(county_pov_int)"
   ]
  },
  {
   "cell_type": "code",
   "execution_count": 4,
   "metadata": {},
   "outputs": [],
   "source": [
    "county_pov_df = county_pov_df.drop(columns=[\"Poverty Rate\"],axis=1)"
   ]
  },
  {
   "cell_type": "code",
   "execution_count": 5,
   "metadata": {},
   "outputs": [
    {
     "data": {
      "text/html": [
       "<div>\n",
       "<style scoped>\n",
       "    .dataframe tbody tr th:only-of-type {\n",
       "        vertical-align: middle;\n",
       "    }\n",
       "\n",
       "    .dataframe tbody tr th {\n",
       "        vertical-align: top;\n",
       "    }\n",
       "\n",
       "    .dataframe thead th {\n",
       "        text-align: right;\n",
       "    }\n",
       "</style>\n",
       "<table border=\"1\" class=\"dataframe\">\n",
       "  <thead>\n",
       "    <tr style=\"text-align: right;\">\n",
       "      <th></th>\n",
       "      <th>Rank</th>\n",
       "      <th>County</th>\n",
       "      <th>Urban/Rural/Sub</th>\n",
       "      <th>Poverty Rate (%)</th>\n",
       "    </tr>\n",
       "  </thead>\n",
       "  <tbody>\n",
       "    <tr>\n",
       "      <td>0</td>\n",
       "      <td>1st</td>\n",
       "      <td>Carver County</td>\n",
       "      <td>Suburban</td>\n",
       "      <td>4.00</td>\n",
       "    </tr>\n",
       "    <tr>\n",
       "      <td>1</td>\n",
       "      <td>2nd</td>\n",
       "      <td>Washington County</td>\n",
       "      <td>Suburban</td>\n",
       "      <td>5.00</td>\n",
       "    </tr>\n",
       "    <tr>\n",
       "      <td>2</td>\n",
       "      <td>3rd</td>\n",
       "      <td>Wright County</td>\n",
       "      <td>Suburban</td>\n",
       "      <td>5.00</td>\n",
       "    </tr>\n",
       "    <tr>\n",
       "      <td>3</td>\n",
       "      <td>4th</td>\n",
       "      <td>Chisago County</td>\n",
       "      <td>Rural</td>\n",
       "      <td>5.40</td>\n",
       "    </tr>\n",
       "    <tr>\n",
       "      <td>4</td>\n",
       "      <td>5th</td>\n",
       "      <td>Scott County</td>\n",
       "      <td>Suburban</td>\n",
       "      <td>5.60</td>\n",
       "    </tr>\n",
       "  </tbody>\n",
       "</table>\n",
       "</div>"
      ],
      "text/plain": [
       "  Rank             County Urban/Rural/Sub Poverty Rate (%)\n",
       "0  1st      Carver County        Suburban             4.00\n",
       "1  2nd  Washington County        Suburban             5.00\n",
       "2  3rd      Wright County        Suburban             5.00\n",
       "3  4th     Chisago County           Rural             5.40\n",
       "4  5th       Scott County        Suburban             5.60"
      ]
     },
     "execution_count": 5,
     "metadata": {},
     "output_type": "execute_result"
    }
   ],
   "source": [
    "county_pov_df[\"Poverty Rate (%)\"] = pov_rate\n",
    "county_pov_df.head()"
   ]
  },
  {
   "cell_type": "code",
   "execution_count": 6,
   "metadata": {},
   "outputs": [
    {
     "data": {
      "text/html": [
       "<div>\n",
       "<style scoped>\n",
       "    .dataframe tbody tr th:only-of-type {\n",
       "        vertical-align: middle;\n",
       "    }\n",
       "\n",
       "    .dataframe tbody tr th {\n",
       "        vertical-align: top;\n",
       "    }\n",
       "\n",
       "    .dataframe thead th {\n",
       "        text-align: right;\n",
       "    }\n",
       "</style>\n",
       "<table border=\"1\" class=\"dataframe\">\n",
       "  <thead>\n",
       "    <tr style=\"text-align: right;\">\n",
       "      <th></th>\n",
       "      <th>Rank</th>\n",
       "      <th>County</th>\n",
       "      <th>Poverty Rate (%)</th>\n",
       "      <th>Urban/Rural/Sub</th>\n",
       "    </tr>\n",
       "  </thead>\n",
       "  <tbody>\n",
       "    <tr>\n",
       "      <td>0</td>\n",
       "      <td>1st</td>\n",
       "      <td>Carver County</td>\n",
       "      <td>4.00</td>\n",
       "      <td>Suburban</td>\n",
       "    </tr>\n",
       "    <tr>\n",
       "      <td>1</td>\n",
       "      <td>2nd</td>\n",
       "      <td>Washington County</td>\n",
       "      <td>5.00</td>\n",
       "      <td>Suburban</td>\n",
       "    </tr>\n",
       "    <tr>\n",
       "      <td>2</td>\n",
       "      <td>3rd</td>\n",
       "      <td>Wright County</td>\n",
       "      <td>5.00</td>\n",
       "      <td>Suburban</td>\n",
       "    </tr>\n",
       "    <tr>\n",
       "      <td>3</td>\n",
       "      <td>4th</td>\n",
       "      <td>Chisago County</td>\n",
       "      <td>5.40</td>\n",
       "      <td>Rural</td>\n",
       "    </tr>\n",
       "    <tr>\n",
       "      <td>4</td>\n",
       "      <td>5th</td>\n",
       "      <td>Scott County</td>\n",
       "      <td>5.60</td>\n",
       "      <td>Suburban</td>\n",
       "    </tr>\n",
       "  </tbody>\n",
       "</table>\n",
       "</div>"
      ],
      "text/plain": [
       "  Rank             County Poverty Rate (%) Urban/Rural/Sub\n",
       "0  1st      Carver County             4.00        Suburban\n",
       "1  2nd  Washington County             5.00        Suburban\n",
       "2  3rd      Wright County             5.00        Suburban\n",
       "3  4th     Chisago County             5.40           Rural\n",
       "4  5th       Scott County             5.60        Suburban"
      ]
     },
     "execution_count": 6,
     "metadata": {},
     "output_type": "execute_result"
    }
   ],
   "source": [
    "#swap columns\n",
    "county_pov_df = county_pov_df[['Rank','County','Poverty Rate (%)','Urban/Rural/Sub']]\n",
    "county_pov_df.head()"
   ]
  },
  {
   "cell_type": "code",
   "execution_count": 9,
   "metadata": {},
   "outputs": [
    {
     "data": {
      "text/plain": [
       "Rank                object\n",
       "County              object\n",
       "Poverty Rate (%)    object\n",
       "Urban/Rural/Sub     object\n",
       "dtype: object"
      ]
     },
     "execution_count": 9,
     "metadata": {},
     "output_type": "execute_result"
    }
   ],
   "source": [
    "county_pov_df.dtypes "
   ]
  },
  {
   "cell_type": "code",
   "execution_count": 11,
   "metadata": {},
   "outputs": [
    {
     "data": {
      "text/plain": [
       "Rank                 object\n",
       "County               object\n",
       "Poverty Rate (%)    float64\n",
       "Urban/Rural/Sub      object\n",
       "dtype: object"
      ]
     },
     "execution_count": 11,
     "metadata": {},
     "output_type": "execute_result"
    }
   ],
   "source": [
    "county_pov_df[\"Poverty Rate (%)\"] = pd.to_numeric(county_pov_df[\"Poverty Rate (%)\"])\n",
    "county_pov_df.dtypes "
   ]
  },
  {
   "cell_type": "code",
   "execution_count": 12,
   "metadata": {},
   "outputs": [
    {
     "data": {
      "text/plain": [
       "str"
      ]
     },
     "execution_count": 12,
     "metadata": {},
     "output_type": "execute_result"
    }
   ],
   "source": [
    "type(county_pov_df[\"County\"][0])"
   ]
  }
 ],
 "metadata": {
  "kernelspec": {
   "display_name": "Python 3",
   "language": "python",
   "name": "python3"
  },
  "language_info": {
   "codemirror_mode": {
    "name": "ipython",
    "version": 3
   },
   "file_extension": ".py",
   "mimetype": "text/x-python",
   "name": "python",
   "nbconvert_exporter": "python",
   "pygments_lexer": "ipython3",
   "version": "3.6.9"
  }
 },
 "nbformat": 4,
 "nbformat_minor": 2
}
