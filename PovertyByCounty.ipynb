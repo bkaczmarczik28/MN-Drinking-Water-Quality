{
 "cells": [
  {
   "cell_type": "code",
   "execution_count": 1,
   "metadata": {},
   "outputs": [],
   "source": [
    "# Import Dependencies\n",
    "import pandas as pd"
   ]
  },
  {
   "cell_type": "code",
   "execution_count": 5,
   "metadata": {},
   "outputs": [
    {
     "data": {
      "text/html": [
       "<div>\n",
       "<style scoped>\n",
       "    .dataframe tbody tr th:only-of-type {\n",
       "        vertical-align: middle;\n",
       "    }\n",
       "\n",
       "    .dataframe tbody tr th {\n",
       "        vertical-align: top;\n",
       "    }\n",
       "\n",
       "    .dataframe thead th {\n",
       "        text-align: right;\n",
       "    }\n",
       "</style>\n",
       "<table border=\"1\" class=\"dataframe\">\n",
       "  <thead>\n",
       "    <tr style=\"text-align: right;\">\n",
       "      <th></th>\n",
       "      <th>Rank</th>\n",
       "      <th>County</th>\n",
       "      <th>Poverty Rate</th>\n",
       "      <th>Urban/Rural/Sub</th>\n",
       "    </tr>\n",
       "  </thead>\n",
       "  <tbody>\n",
       "    <tr>\n",
       "      <td>0</td>\n",
       "      <td>1st</td>\n",
       "      <td>Carver County</td>\n",
       "      <td>4.00%</td>\n",
       "      <td>Suburban</td>\n",
       "    </tr>\n",
       "    <tr>\n",
       "      <td>1</td>\n",
       "      <td>2nd</td>\n",
       "      <td>Washington County</td>\n",
       "      <td>5.00%</td>\n",
       "      <td>Suburban</td>\n",
       "    </tr>\n",
       "    <tr>\n",
       "      <td>2</td>\n",
       "      <td>3rd</td>\n",
       "      <td>Wright County</td>\n",
       "      <td>5.00%</td>\n",
       "      <td>Suburban</td>\n",
       "    </tr>\n",
       "    <tr>\n",
       "      <td>3</td>\n",
       "      <td>4th</td>\n",
       "      <td>Chisago County</td>\n",
       "      <td>5.40%</td>\n",
       "      <td>Rural</td>\n",
       "    </tr>\n",
       "    <tr>\n",
       "      <td>4</td>\n",
       "      <td>5th</td>\n",
       "      <td>Scott County</td>\n",
       "      <td>5.60%</td>\n",
       "      <td>Suburban</td>\n",
       "    </tr>\n",
       "  </tbody>\n",
       "</table>\n",
       "</div>"
      ],
      "text/plain": [
       "  Rank             County Poverty Rate Urban/Rural/Sub\n",
       "0  1st      Carver County        4.00%        Suburban\n",
       "1  2nd  Washington County        5.00%        Suburban\n",
       "2  3rd      Wright County        5.00%        Suburban\n",
       "3  4th     Chisago County        5.40%           Rural\n",
       "4  5th       Scott County        5.60%        Suburban"
      ]
     },
     "execution_count": 5,
     "metadata": {},
     "output_type": "execute_result"
    }
   ],
   "source": [
    "# Create a path to the csv and read it into a Pandas DataFrame\n",
    "csv_path = \"CountyPovertyRate.csv\"\n",
    "county_pov_df = pd.read_csv(csv_path)\n",
    "\n",
    "county_pov_df.head()"
   ]
  },
  {
   "cell_type": "code",
   "execution_count": 7,
   "metadata": {},
   "outputs": [
    {
     "data": {
      "text/plain": [
       "87"
      ]
     },
     "execution_count": 7,
     "metadata": {},
     "output_type": "execute_result"
    }
   ],
   "source": [
    "len(county_pov_df)"
   ]
  },
  {
   "cell_type": "code",
   "execution_count": 12,
   "metadata": {},
   "outputs": [
    {
     "data": {
      "text/plain": [
       "array(['4.00%', '5.00%', '5.40%', '5.60%', '5.70%', '6.10%', '6.40%',\n",
       "       '6.60%', '6.90%', '7.10%', '7.40%', '7.70%', '7.80%', '7.90%',\n",
       "       '8.10%', '8.20%', '8.30%', '8.40%', '8.50%', '8.80%', '8.90%',\n",
       "       '9.10%', '9.20%', '9.30%', '9.40%', '9.60%', '9.90%', '10.30%',\n",
       "       '10.60%', '10.80%', '10.90%', '11.00%', '11.10%', '11.20%',\n",
       "       '11.30%', '11.40%', '11.50%', '11.60%', '11.70%', '11.80%',\n",
       "       '12.00%', '12.10%', '12.20%', '12.40%', '12.50%', '12.60%',\n",
       "       '12.70%', '13.00%', '13.10%', '13.60%', '13.70%', '14.10%',\n",
       "       '14.50%', '15.00%', '15.30%', '15.40%', '15.60%', '15.80%',\n",
       "       '17.10%', '17.90%', '18.10%', '19.00%', '22.70%'], dtype=object)"
      ]
     },
     "execution_count": 12,
     "metadata": {},
     "output_type": "execute_result"
    }
   ],
   "source": [
    "county_pov_df[\"Poverty Rate\"].unique()"
   ]
  },
  {
   "cell_type": "code",
   "execution_count": 14,
   "metadata": {},
   "outputs": [
    {
     "data": {
      "text/plain": [
       "str"
      ]
     },
     "execution_count": 14,
     "metadata": {},
     "output_type": "execute_result"
    }
   ],
   "source": [
    "type(county_pov_df[\"Poverty Rate\"][0])"
   ]
  },
  {
   "cell_type": "code",
   "execution_count": null,
   "metadata": {},
   "outputs": [],
   "source": []
  }
 ],
 "metadata": {
  "kernelspec": {
   "display_name": "Python 3",
   "language": "python",
   "name": "python3"
  },
  "language_info": {
   "codemirror_mode": {
    "name": "ipython",
    "version": 3
   },
   "file_extension": ".py",
   "mimetype": "text/x-python",
   "name": "python",
   "nbconvert_exporter": "python",
   "pygments_lexer": "ipython3",
   "version": "3.6.9"
  }
 },
 "nbformat": 4,
 "nbformat_minor": 2
}
